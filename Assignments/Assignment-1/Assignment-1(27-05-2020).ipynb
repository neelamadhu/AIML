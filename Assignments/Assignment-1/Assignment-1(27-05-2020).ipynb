{
 "cells": [
  {
   "cell_type": "code",
   "execution_count": 1,
   "metadata": {},
   "outputs": [
    {
     "name": "stdout",
     "output_type": "stream",
     "text": [
      "enter decimal: 8\n",
      "1000\n"
     ]
    }
   ],
   "source": [
    "#decimal number to Binary\n",
    "def binary(n):\n",
    "   if n > 1:\n",
    "       binary(n//2)\n",
    "   print(n % 2,end = '')\n",
    "d = int(input(\"enter decimal: \"))\n",
    "binary(d)\n",
    "print()\n"
   ]
  },
  {
   "cell_type": "code",
   "execution_count": 2,
   "metadata": {},
   "outputs": [
    {
     "name": "stdout",
     "output_type": "stream",
     "text": [
      "a=  1\n",
      "b=  5\n",
      "c=  6\n",
      "the roots are %f and %f -2.0 -3.0\n"
     ]
    }
   ],
   "source": [
    "#Roots of quadratic equation\n",
    "from math import sqrt\n",
    "a=float(input(\"a=  \"))\n",
    "b=float(input(\"b=  \"))\n",
    "c=float(input(\"c=  \"))\n",
    "r=b**2 - 4*a*c\n",
    "a1 =(((-b) + sqrt(r))/(2*a))     \n",
    "b1=(((-b) - sqrt(r))/(2*a))\n",
    "print(\"the roots are %f and %f\",a1,b1)\n"
   ]
  },
  {
   "cell_type": "code",
   "execution_count": 3,
   "metadata": {},
   "outputs": [
    {
     "name": "stdout",
     "output_type": "stream",
     "text": [
      "5\n",
      "1,1,2,3,5,"
     ]
    }
   ],
   "source": [
    "#first N number of Fibonacci numbers\n",
    "n=int(input(''))\n",
    "f1=0\n",
    "f2=1\n",
    "if(n>1):\n",
    "    for x in range(0,n):\n",
    "        print(f2,end=',')\n",
    "        next=f1+f2\n",
    "        f1=f2\n",
    "        f2=next\n"
   ]
  },
  {
   "cell_type": "code",
   "execution_count": 4,
   "metadata": {},
   "outputs": [
    {
     "name": "stdout",
     "output_type": "stream",
     "text": [
      "enter value to show7\n",
      "enter range10\n",
      "7 * 1 = 7\n",
      "7 * 2 = 14\n",
      "7 * 3 = 21\n",
      "7 * 4 = 28\n",
      "7 * 5 = 35\n",
      "7 * 6 = 42\n",
      "7 * 7 = 49\n",
      "7 * 8 = 56\n",
      "7 * 9 = 63\n"
     ]
    }
   ],
   "source": [
    "#multiplication table of K\n",
    "k=int(input(\"enter value to show\"))\n",
    "n=int(input('enter range'))\n",
    "for i in range(1,n):\n",
    "    print(k,'*',i,'=',k*i)\n"
   ]
  },
  {
   "cell_type": "code",
   "execution_count": 5,
   "metadata": {},
   "outputs": [
    {
     "name": "stdout",
     "output_type": "stream",
     "text": [
      "* \r\n",
      "* * \r\n",
      "* * * \r\n",
      "* * * * \r\n",
      "* * * * * \r\n"
     ]
    }
   ],
   "source": [
    "#pattern\n",
    "for i in range(0,5):\n",
    "    for j in range(0,i+1):\n",
    "        print(\"* \",end=\"\")\n",
    "    print(\"\\r\")\n"
   ]
  },
  {
   "cell_type": "code",
   "execution_count": null,
   "metadata": {},
   "outputs": [],
   "source": []
  }
 ],
 "metadata": {
  "kernelspec": {
   "display_name": "Python 3",
   "language": "python",
   "name": "python3"
  },
  "language_info": {
   "codemirror_mode": {
    "name": "ipython",
    "version": 3
   },
   "file_extension": ".py",
   "mimetype": "text/x-python",
   "name": "python",
   "nbconvert_exporter": "python",
   "pygments_lexer": "ipython3",
   "version": "3.6.4"
  }
 },
 "nbformat": 4,
 "nbformat_minor": 2
}
