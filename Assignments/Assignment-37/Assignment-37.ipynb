{
 "cells": [
  {
   "cell_type": "markdown",
   "metadata": {},
   "source": [
    "# CSE-221710304038-N.Madhu Kumar"
   ]
  },
  {
   "cell_type": "code",
   "execution_count": 1,
   "metadata": {
    "colab": {},
    "colab_type": "code",
    "executionInfo": {
     "elapsed": 2513,
     "status": "ok",
     "timestamp": 1594356022616,
     "user": {
      "displayName": "MURIKI SAI SRINIVAS MURIKI SAI SRINIVAS",
      "photoUrl": "",
      "userId": "11565405108354461381"
     },
     "user_tz": -330
    },
    "id": "94iIJAr6znh7"
   },
   "outputs": [],
   "source": [
    "import tensorflow as tf\n",
    "import tensorflow.keras as keras\n",
    "import numpy as np\n",
    "import matplotlib.pyplot as plt\n",
    "%matplotlib inline"
   ]
  },
  {
   "cell_type": "code",
   "execution_count": 2,
   "metadata": {
    "colab": {
     "base_uri": "https://localhost:8080/",
     "height": 34
    },
    "colab_type": "code",
    "executionInfo": {
     "elapsed": 2492,
     "status": "ok",
     "timestamp": 1594356022619,
     "user": {
      "displayName": "MURIKI SAI SRINIVAS MURIKI SAI SRINIVAS",
      "photoUrl": "",
      "userId": "11565405108354461381"
     },
     "user_tz": -330
    },
    "id": "h-0H8A0T0r_I",
    "outputId": "36509617-8340-4caf-9f54-b7bf9808d326"
   },
   "outputs": [
    {
     "name": "stderr",
     "output_type": "stream",
     "text": [
      "Using TensorFlow backend.\n"
     ]
    }
   ],
   "source": [
    "from keras.datasets.mnist import load_data"
   ]
  },
  {
   "cell_type": "code",
   "execution_count": 3,
   "metadata": {
    "colab": {
     "base_uri": "https://localhost:8080/",
     "height": 50
    },
    "colab_type": "code",
    "executionInfo": {
     "elapsed": 3318,
     "status": "ok",
     "timestamp": 1594356023463,
     "user": {
      "displayName": "MURIKI SAI SRINIVAS MURIKI SAI SRINIVAS",
      "photoUrl": "",
      "userId": "11565405108354461381"
     },
     "user_tz": -330
    },
    "id": "P4HhxIXy09FR",
    "outputId": "262c38f1-e4c6-450e-e106-d35be6d09530"
   },
   "outputs": [
    {
     "name": "stdout",
     "output_type": "stream",
     "text": [
      "(60000, 28, 28)\n",
      "(10000, 28, 28)\n"
     ]
    }
   ],
   "source": [
    "(train_digits,train_labels),(test_digits,test_labels)=load_data()\n",
    "print(train_digits.shape)\n",
    "print(test_digits.shape)"
   ]
  },
  {
   "cell_type": "code",
   "execution_count": 4,
   "metadata": {
    "colab": {
     "base_uri": "https://localhost:8080/",
     "height": 218
    },
    "colab_type": "code",
    "executionInfo": {
     "elapsed": 3276,
     "status": "ok",
     "timestamp": 1594356023466,
     "user": {
      "displayName": "MURIKI SAI SRINIVAS MURIKI SAI SRINIVAS",
      "photoUrl": "",
      "userId": "11565405108354461381"
     },
     "user_tz": -330
    },
    "id": "lvXrYlU11W-Z",
    "outputId": "e8d73026-ced5-4963-831e-2fb1f8d1e5e5"
   },
   "outputs": [
    {
     "data": {
      "text/plain": [
       "<bound method IndexOpsMixin.value_counts of 0        5\n",
       "1        0\n",
       "2        4\n",
       "3        1\n",
       "4        9\n",
       "        ..\n",
       "59995    8\n",
       "59996    3\n",
       "59997    5\n",
       "59998    6\n",
       "59999    8\n",
       "Length: 60000, dtype: uint8>"
      ]
     },
     "execution_count": 4,
     "metadata": {
      "tags": []
     },
     "output_type": "execute_result"
    }
   ],
   "source": [
    "import pandas as pd\n",
    "pd.Series(train_labels).value_counts"
   ]
  },
  {
   "cell_type": "code",
   "execution_count": 5,
   "metadata": {
    "colab": {
     "base_uri": "https://localhost:8080/",
     "height": 218
    },
    "colab_type": "code",
    "executionInfo": {
     "elapsed": 3253,
     "status": "ok",
     "timestamp": 1594356023468,
     "user": {
      "displayName": "MURIKI SAI SRINIVAS MURIKI SAI SRINIVAS",
      "photoUrl": "",
      "userId": "11565405108354461381"
     },
     "user_tz": -330
    },
    "id": "luFFvweR2fum",
    "outputId": "3313035f-1d4a-4e44-87c0-5918960453f2"
   },
   "outputs": [
    {
     "data": {
      "text/plain": [
       "<bound method IndexOpsMixin.value_counts of 0       7\n",
       "1       2\n",
       "2       1\n",
       "3       0\n",
       "4       4\n",
       "       ..\n",
       "9995    2\n",
       "9996    3\n",
       "9997    4\n",
       "9998    5\n",
       "9999    6\n",
       "Length: 10000, dtype: uint8>"
      ]
     },
     "execution_count": 5,
     "metadata": {
      "tags": []
     },
     "output_type": "execute_result"
    }
   ],
   "source": [
    "pd.Series(test_labels).value_counts"
   ]
  },
  {
   "cell_type": "code",
   "execution_count": 6,
   "metadata": {
    "colab": {
     "base_uri": "https://localhost:8080/",
     "height": 282
    },
    "colab_type": "code",
    "executionInfo": {
     "elapsed": 3215,
     "status": "ok",
     "timestamp": 1594356023471,
     "user": {
      "displayName": "MURIKI SAI SRINIVAS MURIKI SAI SRINIVAS",
      "photoUrl": "",
      "userId": "11565405108354461381"
     },
     "user_tz": -330
    },
    "id": "1TudQR4w2u50",
    "outputId": "b4de4c4e-a14b-4416-864d-86d2ef9ba189"
   },
   "outputs": [
    {
     "data": {
      "text/plain": [
       "<matplotlib.image.AxesImage at 0x7f6dd953bc88>"
      ]
     },
     "execution_count": 6,
     "metadata": {
      "tags": []
     },
     "output_type": "execute_result"
    },
    {
     "data": {
      "image/png": "[encoded data removed]",
      "text/plain": [
       "<Figure size 432x288 with 1 Axes>"
      ]
     },
     "metadata": {
      "needs_background": "light",
      "tags": []
     },
     "output_type": "display_data"
    }
   ],
   "source": [
    "plt.imshow(train_digits[0])"
   ]
  },
  {
   "cell_type": "code",
   "execution_count": 7,
   "metadata": {
    "colab": {
     "base_uri": "https://localhost:8080/",
     "height": 298
    },
    "colab_type": "code",
    "executionInfo": {
     "elapsed": 3181,
     "status": "ok",
     "timestamp": 1594356023473,
     "user": {
      "displayName": "MURIKI SAI SRINIVAS MURIKI SAI SRINIVAS",
      "photoUrl": "",
      "userId": "11565405108354461381"
     },
     "user_tz": -330
    },
    "id": "RPcQcKlO27F-",
    "outputId": "a136cfb4-bbfd-4d29-b32c-5d2187a8ded0"
   },
   "outputs": [
    {
     "data": {
      "text/plain": [
       "<matplotlib.image.AxesImage at 0x7f6dd94c8e80>"
      ]
     },
     "execution_count": 7,
     "metadata": {
      "tags": []
     },
     "output_type": "execute_result"
    },
    {
     "data": {
      "image/png": "[encoded data removed]",
      "text/plain": [
       "<Figure size 432x288 with 1 Axes>"
      ]
     },
     "metadata": {
      "needs_background": "light",
      "tags": []
     },
     "output_type": "display_data"
    }
   ],
   "source": [
    "plt.title(\"Digit:\"+str(train_labels[0]))\n",
    "plt.imshow(train_digits[0],cmap=\"gray\")"
   ]
  },
  {
   "cell_type": "code",
   "execution_count": 8,
   "metadata": {
    "colab": {
     "base_uri": "https://localhost:8080/",
     "height": 265
    },
    "colab_type": "code",
    "executionInfo": {
     "elapsed": 3790,
     "status": "ok",
     "timestamp": 1594356024105,
     "user": {
      "displayName": "MURIKI SAI SRINIVAS MURIKI SAI SRINIVAS",
      "photoUrl": "",
      "userId": "11565405108354461381"
     },
     "user_tz": -330
    },
    "id": "4Jso39ZG3EIz",
    "outputId": "de701782-6037-4c86-a65c-4a6218bd0df4"
   },
   "outputs": [
    {
     "data": {
      "image/png": "[encoded data removed]",
      "text/plain": [
       "<Figure size 432x288 with 1 Axes>"
      ]
     },
     "metadata": {
      "needs_background": "light",
      "tags": []
     },
     "output_type": "display_data"
    }
   ],
   "source": [
    "plt.hist(train_digits[0])\n",
    "plt.show()"
   ]
  },
  {
   "cell_type": "code",
   "execution_count": 9,
   "metadata": {
    "colab": {
     "base_uri": "https://localhost:8080/",
     "height": 50
    },
    "colab_type": "code",
    "executionInfo": {
     "elapsed": 3742,
     "status": "ok",
     "timestamp": 1594356024106,
     "user": {
      "displayName": "MURIKI SAI SRINIVAS MURIKI SAI SRINIVAS",
      "photoUrl": "",
      "userId": "11565405108354461381"
     },
     "user_tz": -330
    },
    "id": "qiEBZvD93j1A",
    "outputId": "d48b7345-b75f-40ae-9c81-d03feda5e98c"
   },
   "outputs": [
    {
     "data": {
      "text/plain": [
       "array([44189, 38477, 36405, 34257, 35992, 46202, 43330, 24979, 24274,\n",
       "       15051, 42438, 35306, 53445, 24240,  3788,  1071])"
      ]
     },
     "execution_count": 9,
     "metadata": {
      "tags": []
     },
     "output_type": "execute_result"
    }
   ],
   "source": [
    "samp=np.random.randint(train_digits.shape[0],size=16)\n",
    "samp"
   ]
  },
  {
   "cell_type": "code",
   "execution_count": 10,
   "metadata": {
    "colab": {
     "base_uri": "https://localhost:8080/",
     "height": 917
    },
    "colab_type": "code",
    "executionInfo": {
     "elapsed": 4580,
     "status": "ok",
     "timestamp": 1594356024985,
     "user": {
      "displayName": "MURIKI SAI SRINIVAS MURIKI SAI SRINIVAS",
      "photoUrl": "",
      "userId": "11565405108354461381"
     },
     "user_tz": -330
    },
    "id": "F36vRPnW4NP8",
    "outputId": "4a607dd1-84e1-43d7-ffba-a13fe15c2d88"
   },
   "outputs": [
    {
     "data": {
      "image/png": "[encoded data removed]",
      "text/plain": [
       "<Figure size 1152x1152 with 16 Axes>"
      ]
     },
     "metadata": {
      "needs_background": "light",
      "tags": []
     },
     "output_type": "display_data"
    }
   ],
   "source": [
    "plt.figure(figsize=(16,16))\n",
    "j=1\n",
    "for i in samp:\n",
    "  plt.subplot(4,4,j)\n",
    "  plt.imshow(train_digits[i])\n",
    "  plt.title(\"Digit:\"+str(train_labels[i]))\n",
    "  plt.axis(\"off\")\n",
    "  j=j+1"
   ]
  },
  {
   "cell_type": "code",
   "execution_count": 11,
   "metadata": {
    "colab": {},
    "colab_type": "code",
    "executionInfo": {
     "elapsed": 4566,
     "status": "ok",
     "timestamp": 1594356024989,
     "user": {
      "displayName": "MURIKI SAI SRINIVAS MURIKI SAI SRINIVAS",
      "photoUrl": "",
      "userId": "11565405108354461381"
     },
     "user_tz": -330
    },
    "id": "ZX2oeAms4zo6"
   },
   "outputs": [],
   "source": [
    "train_digits_sc=train_digits/255.0\n",
    "test_digits_sc=test_digits/255.0"
   ]
  },
  {
   "cell_type": "code",
   "execution_count": 12,
   "metadata": {
    "colab": {},
    "colab_type": "code",
    "executionInfo": {
     "elapsed": 4559,
     "status": "ok",
     "timestamp": 1594356024991,
     "user": {
      "displayName": "MURIKI SAI SRINIVAS MURIKI SAI SRINIVAS",
      "photoUrl": "",
      "userId": "11565405108354461381"
     },
     "user_tz": -330
    },
    "id": "doYt2ovT5gwA"
   },
   "outputs": [],
   "source": [
    "from keras.utils import to_categorical"
   ]
  },
  {
   "cell_type": "code",
   "execution_count": 13,
   "metadata": {
    "colab": {},
    "colab_type": "code",
    "executionInfo": {
     "elapsed": 4552,
     "status": "ok",
     "timestamp": 1594356024995,
     "user": {
      "displayName": "MURIKI SAI SRINIVAS MURIKI SAI SRINIVAS",
      "photoUrl": "",
      "userId": "11565405108354461381"
     },
     "user_tz": -330
    },
    "id": "H6-HODiF8oeD"
   },
   "outputs": [],
   "source": [
    "train_labels_cat=to_categorical(train_labels)"
   ]
  },
  {
   "cell_type": "code",
   "execution_count": 14,
   "metadata": {
    "colab": {},
    "colab_type": "code",
    "executionInfo": {
     "elapsed": 4549,
     "status": "ok",
     "timestamp": 1594356025002,
     "user": {
      "displayName": "MURIKI SAI SRINIVAS MURIKI SAI SRINIVAS",
      "photoUrl": "",
      "userId": "11565405108354461381"
     },
     "user_tz": -330
    },
    "id": "mFjhvfnv8vEQ"
   },
   "outputs": [],
   "source": [
    "test_labels_cat=to_categorical(test_labels)"
   ]
  },
  {
   "cell_type": "code",
   "execution_count": 15,
   "metadata": {
    "colab": {
     "base_uri": "https://localhost:8080/",
     "height": 84
    },
    "colab_type": "code",
    "executionInfo": {
     "elapsed": 5152,
     "status": "ok",
     "timestamp": 1594356025618,
     "user": {
      "displayName": "MURIKI SAI SRINIVAS MURIKI SAI SRINIVAS",
      "photoUrl": "",
      "userId": "11565405108354461381"
     },
     "user_tz": -330
    },
    "id": "I5Ho-VCq7Bfa",
    "outputId": "1404dbfc-9773-4de2-82a0-6809e432880d"
   },
   "outputs": [
    {
     "name": "stdout",
     "output_type": "stream",
     "text": [
      "(54000, 28, 28)\n",
      "(6000, 28, 28)\n",
      "(54000, 10)\n",
      "(6000, 10)\n"
     ]
    }
   ],
   "source": [
    "from sklearn.model_selection import train_test_split\n",
    "x_train,x_val,y_train,y_val=train_test_split(train_digits_sc,train_labels_cat,test_size=0.1,random_state=32)\n",
    "print(x_train.shape)\n",
    "print(x_val.shape)\n",
    "print(y_train.shape)\n",
    "print(y_val.shape)"
   ]
  },
  {
   "cell_type": "code",
   "execution_count": 16,
   "metadata": {
    "colab": {
     "base_uri": "https://localhost:8080/",
     "height": 353
    },
    "colab_type": "code",
    "executionInfo": {
     "elapsed": 5140,
     "status": "ok",
     "timestamp": 1594356025625,
     "user": {
      "displayName": "MURIKI SAI SRINIVAS MURIKI SAI SRINIVAS",
      "photoUrl": "",
      "userId": "11565405108354461381"
     },
     "user_tz": -330
    },
    "id": "p1QeIPci9ESC",
    "outputId": "34c2c0eb-8cee-4aaa-b6b7-85d1b5963d57"
   },
   "outputs": [
    {
     "name": "stdout",
     "output_type": "stream",
     "text": [
      "Model: \"sequential_1\"\n",
      "_________________________________________________________________\n",
      "Layer (type)                 Output Shape              Param #   \n",
      "=================================================================\n",
      "flatten_1 (Flatten)          (None, 784)               0         \n",
      "_________________________________________________________________\n",
      "dense_1 (Dense)              (None, 128)               100480    \n",
      "_________________________________________________________________\n",
      "dense_2 (Dense)              (None, 128)               16512     \n",
      "_________________________________________________________________\n",
      "dense_3 (Dense)              (None, 64)                8256      \n",
      "_________________________________________________________________\n",
      "dense_4 (Dense)              (None, 256)               16640     \n",
      "_________________________________________________________________\n",
      "dense_5 (Dense)              (None, 10)                2570      \n",
      "=================================================================\n",
      "Total params: 144,458\n",
      "Trainable params: 144,458\n",
      "Non-trainable params: 0\n",
      "_________________________________________________________________\n"
     ]
    }
   ],
   "source": [
    "from keras.models import Sequential\n",
    "from keras.layers import Dense,Flatten\n",
    "\n",
    "model = Sequential()\n",
    "# first layer we need to mention the input shape\n",
    "\n",
    "model.add(Flatten(input_shape=(28,28)))\n",
    "## 784 pixel values as input to this Dense. 128 Neurons in the layers\n",
    "model.add(Dense(128,activation='relu'))# 784 * 128+128\n",
    "model.add(Dense(128,activation='relu'))# \n",
    "model.add(Dense(64,activation='relu'))\n",
    "model.add(Dense(256,activation='relu'))\n",
    "#Final layer\n",
    "model.add(Dense(10,activation='softmax'))\n",
    "model.summary()"
   ]
  },
  {
   "cell_type": "code",
   "execution_count": 17,
   "metadata": {
    "colab": {},
    "colab_type": "code",
    "executionInfo": {
     "elapsed": 5114,
     "status": "ok",
     "timestamp": 1594356025628,
     "user": {
      "displayName": "MURIKI SAI SRINIVAS MURIKI SAI SRINIVAS",
      "photoUrl": "",
      "userId": "11565405108354461381"
     },
     "user_tz": -330
    },
    "id": "Pp8-frS5GIV9"
   },
   "outputs": [],
   "source": [
    "model.compile(optimizer='adam',loss=tf.keras.losses.CategoricalCrossentropy(),metrics=['accuracy'])"
   ]
  },
  {
   "cell_type": "code",
   "execution_count": 18,
   "metadata": {
    "colab": {
     "base_uri": "https://localhost:8080/",
     "height": 202
    },
    "colab_type": "code",
    "executionInfo": {
     "elapsed": 38330,
     "status": "ok",
     "timestamp": 1594356058888,
     "user": {
      "displayName": "MURIKI SAI SRINIVAS MURIKI SAI SRINIVAS",
      "photoUrl": "",
      "userId": "11565405108354461381"
     },
     "user_tz": -330
    },
    "id": "Jgrm6FMHGLoO",
    "outputId": "015d93e5-d76b-460c-e2f6-cbd37a6a95b9"
   },
   "outputs": [
    {
     "name": "stdout",
     "output_type": "stream",
     "text": [
      "Train on 54000 samples, validate on 6000 samples\n",
      "Epoch 1/5\n",
      "54000/54000 [==============================] - 7s 125us/step - loss: 0.2531 - accuracy: 0.9233 - val_loss: 0.1332 - val_accuracy: 0.9607\n",
      "Epoch 2/5\n",
      "54000/54000 [==============================] - 7s 121us/step - loss: 0.1112 - accuracy: 0.9654 - val_loss: 0.1272 - val_accuracy: 0.9647\n",
      "Epoch 3/5\n",
      "54000/54000 [==============================] - 6s 118us/step - loss: 0.0806 - accuracy: 0.9750 - val_loss: 0.1162 - val_accuracy: 0.9697\n",
      "Epoch 4/5\n",
      "54000/54000 [==============================] - 7s 121us/step - loss: 0.0671 - accuracy: 0.9790 - val_loss: 0.0977 - val_accuracy: 0.9738\n",
      "Epoch 5/5\n",
      "54000/54000 [==============================] - 6s 118us/step - loss: 0.0536 - accuracy: 0.9836 - val_loss: 0.1125 - val_accuracy: 0.9713\n"
     ]
    }
   ],
   "source": [
    "history=model.fit(x=x_train,y=y_train,epochs=5,validation_data=(x_val,y_val),batch_size=32)"
   ]
  },
  {
   "cell_type": "code",
   "execution_count": 19,
   "metadata": {
    "colab": {
     "base_uri": "https://localhost:8080/",
     "height": 50
    },
    "colab_type": "code",
    "executionInfo": {
     "elapsed": 38312,
     "status": "ok",
     "timestamp": 1594356058891,
     "user": {
      "displayName": "MURIKI SAI SRINIVAS MURIKI SAI SRINIVAS",
      "photoUrl": "",
      "userId": "11565405108354461381"
     },
     "user_tz": -330
    },
    "id": "JEWfMqJaGc8L",
    "outputId": "5a2ab7c6-39f3-4db9-e404-b54e37664e36"
   },
   "outputs": [
    {
     "name": "stdout",
     "output_type": "stream",
     "text": [
      "10000/10000 [==============================] - 0s 29us/step\n"
     ]
    },
    {
     "data": {
      "text/plain": [
       "[0.10723555927913986, 0.9706000089645386]"
      ]
     },
     "execution_count": 19,
     "metadata": {
      "tags": []
     },
     "output_type": "execute_result"
    }
   ],
   "source": [
    "model.evaluate(test_digits_sc,test_labels_cat)"
   ]
  },
  {
   "cell_type": "code",
   "execution_count": 20,
   "metadata": {
    "colab": {
     "base_uri": "https://localhost:8080/",
     "height": 67
    },
    "colab_type": "code",
    "executionInfo": {
     "elapsed": 38303,
     "status": "ok",
     "timestamp": 1594356058893,
     "user": {
      "displayName": "MURIKI SAI SRINIVAS MURIKI SAI SRINIVAS",
      "photoUrl": "",
      "userId": "11565405108354461381"
     },
     "user_tz": -330
    },
    "id": "4Ps6eVFR7b5C",
    "outputId": "e50f656a-a8de-4431-fd63-35800d7f92ee"
   },
   "outputs": [
    {
     "name": "stdout",
     "output_type": "stream",
     "text": [
      "(10000, 28, 28)\n",
      "(28, 28)\n",
      "(1, 28, 28)\n"
     ]
    }
   ],
   "source": [
    "print(test_digits_sc.shape)\n",
    "print(test_digits_sc[0].shape)\n",
    "print(np.expand_dims(test_digits_sc[0],axis=0).shape)"
   ]
  },
  {
   "cell_type": "code",
   "execution_count": 21,
   "metadata": {
    "colab": {
     "base_uri": "https://localhost:8080/",
     "height": 67
    },
    "colab_type": "code",
    "executionInfo": {
     "elapsed": 39304,
     "status": "ok",
     "timestamp": 1594356059907,
     "user": {
      "displayName": "MURIKI SAI SRINIVAS MURIKI SAI SRINIVAS",
      "photoUrl": "",
      "userId": "11565405108354461381"
     },
     "user_tz": -330
    },
    "id": "PluAztnQ7f-C",
    "outputId": "6d0fdcc2-c40f-481c-a66f-76341b0a448d"
   },
   "outputs": [
    {
     "data": {
      "text/plain": [
       "array([[1.1940032e-12, 2.1026999e-08, 3.0443877e-07, 3.9721448e-07,\n",
       "        2.3311750e-10, 6.0429587e-12, 7.4912563e-14, 9.9999917e-01,\n",
       "        7.7961249e-10, 1.6632177e-07]], dtype=float32)"
      ]
     },
     "execution_count": 21,
     "metadata": {
      "tags": []
     },
     "output_type": "execute_result"
    }
   ],
   "source": [
    "model.predict(np.expand_dims(test_digits_sc[0],axis=0))"
   ]
  },
  {
   "cell_type": "code",
   "execution_count": 22,
   "metadata": {
    "colab": {
     "base_uri": "https://localhost:8080/",
     "height": 521
    },
    "colab_type": "code",
    "executionInfo": {
     "elapsed": 39283,
     "status": "ok",
     "timestamp": 1594356059910,
     "user": {
      "displayName": "MURIKI SAI SRINIVAS MURIKI SAI SRINIVAS",
      "photoUrl": "",
      "userId": "11565405108354461381"
     },
     "user_tz": -330
    },
    "id": "l-OaByoN7i80",
    "outputId": "187c06bf-c54a-4264-f3ce-f5a6d4e50360"
   },
   "outputs": [
    {
     "data": {
      "text/plain": [
       "array([[1.19399412e-12, 2.10268780e-08, 3.04437606e-07, 3.97212972e-07,\n",
       "        2.33116609e-10, 6.04291226e-12, 7.49122783e-14, 9.99999166e-01,\n",
       "        7.79608045e-10, 1.66321314e-07],\n",
       "       [5.56648005e-10, 2.30446240e-05, 9.99961495e-01, 6.29968372e-06,\n",
       "        6.04002048e-09, 1.69047908e-07, 2.11142179e-08, 4.59808552e-06,\n",
       "        4.39409359e-06, 7.98346805e-12],\n",
       "       [1.97476702e-10, 9.99993563e-01, 3.45607738e-08, 6.40459730e-09,\n",
       "        3.97812755e-07, 1.07156222e-08, 3.96659203e-07, 6.78098715e-08,\n",
       "        5.45844841e-06, 3.19585358e-09],\n",
       "       [9.99985337e-01, 4.18128332e-09, 5.76731566e-07, 8.95292871e-08,\n",
       "        8.68795951e-08, 1.20552650e-05, 1.33811523e-06, 2.55397037e-08,\n",
       "        1.74258929e-07, 2.70984117e-07],\n",
       "       [6.90930619e-07, 1.27930355e-06, 5.37061442e-06, 3.15158544e-09,\n",
       "        9.99976158e-01, 1.59311000e-07, 1.10126939e-05, 6.21046695e-07,\n",
       "        3.53414549e-07, 4.42961891e-06],\n",
       "       [2.10015111e-13, 1.00000000e+00, 1.43602116e-10, 1.30668627e-11,\n",
       "        1.02630846e-08, 1.35295889e-11, 8.93882079e-10, 1.25188049e-09,\n",
       "        4.79343463e-08, 2.41890345e-11],\n",
       "       [1.16865967e-05, 1.33687417e-05, 1.00469158e-04, 3.00161560e-06,\n",
       "        9.98804927e-01, 3.55662742e-05, 1.22944286e-04, 4.14957758e-05,\n",
       "        3.21657717e-04, 5.44853508e-04],\n",
       "       [7.43920027e-05, 2.94672373e-05, 8.25006224e-04, 4.11182702e-01,\n",
       "        4.79662194e-05, 1.52614126e-02, 4.28310159e-05, 9.22195904e-04,\n",
       "        7.63843651e-04, 5.70850194e-01],\n",
       "       [4.73149021e-06, 4.43663994e-05, 5.15121792e-05, 5.16528198e-05,\n",
       "        1.61162432e-04, 6.48360491e-01, 3.47222775e-01, 7.36666053e-08,\n",
       "        3.99598759e-03, 1.07260305e-04],\n",
       "       [1.60456878e-07, 1.33830224e-06, 2.17302068e-06, 1.20576615e-07,\n",
       "        1.72819868e-01, 5.98957115e-08, 1.60353451e-07, 3.42191965e-03,\n",
       "        3.69528357e-06, 8.23750496e-01]], dtype=float32)"
      ]
     },
     "execution_count": 22,
     "metadata": {
      "tags": []
     },
     "output_type": "execute_result"
    }
   ],
   "source": [
    "model.predict(test_digits_sc[:10])"
   ]
  },
  {
   "cell_type": "code",
   "execution_count": 23,
   "metadata": {
    "colab": {
     "base_uri": "https://localhost:8080/",
     "height": 34
    },
    "colab_type": "code",
    "executionInfo": {
     "elapsed": 39277,
     "status": "ok",
     "timestamp": 1594356059919,
     "user": {
      "displayName": "MURIKI SAI SRINIVAS MURIKI SAI SRINIVAS",
      "photoUrl": "",
      "userId": "11565405108354461381"
     },
     "user_tz": -330
    },
    "id": "vpCxgF0n7vEg",
    "outputId": "4e2f5e48-2139-4ac1-e988-bdb21764bdd8"
   },
   "outputs": [
    {
     "data": {
      "text/plain": [
       "array([7])"
      ]
     },
     "execution_count": 23,
     "metadata": {
      "tags": []
     },
     "output_type": "execute_result"
    }
   ],
   "source": [
    "model.predict_classes(np.expand_dims(test_digits_sc[0],axis=0))"
   ]
  },
  {
   "cell_type": "code",
   "execution_count": 24,
   "metadata": {
    "colab": {
     "base_uri": "https://localhost:8080/",
     "height": 67
    },
    "colab_type": "code",
    "executionInfo": {
     "elapsed": 39268,
     "status": "ok",
     "timestamp": 1594356059923,
     "user": {
      "displayName": "MURIKI SAI SRINIVAS MURIKI SAI SRINIVAS",
      "photoUrl": "",
      "userId": "11565405108354461381"
     },
     "user_tz": -330
    },
    "id": "CFZkMalu7y9Z",
    "outputId": "949c36db-f7cf-4c01-e067-4bc449ba0183"
   },
   "outputs": [
    {
     "data": {
      "text/plain": [
       "array([[1.1940032e-12, 2.1026999e-08, 3.0443877e-07, 3.9721448e-07,\n",
       "        2.3311750e-10, 6.0429587e-12, 7.4912563e-14, 9.9999917e-01,\n",
       "        7.7961249e-10, 1.6632177e-07]], dtype=float32)"
      ]
     },
     "execution_count": 24,
     "metadata": {
      "tags": []
     },
     "output_type": "execute_result"
    }
   ],
   "source": [
    "model.predict_proba(np.expand_dims(test_digits_sc[0],axis=0))"
   ]
  },
  {
   "cell_type": "code",
   "execution_count": 25,
   "metadata": {
    "colab": {
     "base_uri": "https://localhost:8080/",
     "height": 286
    },
    "colab_type": "code",
    "executionInfo": {
     "elapsed": 39257,
     "status": "ok",
     "timestamp": 1594356059925,
     "user": {
      "displayName": "MURIKI SAI SRINIVAS MURIKI SAI SRINIVAS",
      "photoUrl": "",
      "userId": "11565405108354461381"
     },
     "user_tz": -330
    },
    "id": "GKyz3d8D72bz",
    "outputId": "46b874ec-3fea-43ec-db9d-dba44e0f216f"
   },
   "outputs": [
    {
     "data": {
      "text/plain": [
       "{'accuracy': [0.92325926, 0.96540743, 0.9750185, 0.97903705, 0.98359257],\n",
       " 'loss': [0.2531192042430242,\n",
       "  0.1111768784271898,\n",
       "  0.08062289669623392,\n",
       "  0.06710683783052351,\n",
       "  0.0535945018748839],\n",
       " 'val_accuracy': [0.9606666564941406,\n",
       "  0.9646666646003723,\n",
       "  0.9696666598320007,\n",
       "  0.9738333225250244,\n",
       "  0.9713333249092102],\n",
       " 'val_loss': [0.13316741593678794,\n",
       "  0.12719003361463546,\n",
       "  0.11621550353957961,\n",
       "  0.09766906557418406,\n",
       "  0.11245413249048095]}"
      ]
     },
     "execution_count": 25,
     "metadata": {
      "tags": []
     },
     "output_type": "execute_result"
    }
   ],
   "source": [
    "history.history"
   ]
  },
  {
   "cell_type": "code",
   "execution_count": 26,
   "metadata": {
    "colab": {
     "base_uri": "https://localhost:8080/",
     "height": 282
    },
    "colab_type": "code",
    "executionInfo": {
     "elapsed": 39238,
     "status": "ok",
     "timestamp": 1594356059926,
     "user": {
      "displayName": "MURIKI SAI SRINIVAS MURIKI SAI SRINIVAS",
      "photoUrl": "",
      "userId": "11565405108354461381"
     },
     "user_tz": -330
    },
    "id": "8WjycFke75Na",
    "outputId": "b37c2dee-b942-47c8-89d8-3c2581eae587"
   },
   "outputs": [
    {
     "data": {
      "text/plain": [
       "[<matplotlib.lines.Line2D at 0x7f6dcaaa5e80>]"
      ]
     },
     "execution_count": 26,
     "metadata": {
      "tags": []
     },
     "output_type": "execute_result"
    },
    {
     "data": {
      "image/png": "[encoded data removed]",
      "text/plain": [
       "<Figure size 432x288 with 1 Axes>"
      ]
     },
     "metadata": {
      "needs_background": "light",
      "tags": []
     },
     "output_type": "display_data"
    }
   ],
   "source": [
    "plt.plot(history.history['accuracy'])\n",
    "plt.plot(history.history['val_accuracy'])"
   ]
  },
  {
   "cell_type": "markdown",
   "metadata": {
    "colab_type": "text",
    "id": "bHGUwGJP_yPq"
   },
   "source": [
    "# With Sigmoid as final layer"
   ]
  },
  {
   "cell_type": "code",
   "execution_count": 27,
   "metadata": {
    "colab": {
     "base_uri": "https://localhost:8080/",
     "height": 353
    },
    "colab_type": "code",
    "executionInfo": {
     "elapsed": 39218,
     "status": "ok",
     "timestamp": 1594356059928,
     "user": {
      "displayName": "MURIKI SAI SRINIVAS MURIKI SAI SRINIVAS",
      "photoUrl": "",
      "userId": "11565405108354461381"
     },
     "user_tz": -330
    },
    "id": "Gg2ldWVY9w1w",
    "outputId": "534428bc-b1b7-43c3-8ceb-8232a91d0209"
   },
   "outputs": [
    {
     "name": "stdout",
     "output_type": "stream",
     "text": [
      "Model: \"sequential_2\"\n",
      "_________________________________________________________________\n",
      "Layer (type)                 Output Shape              Param #   \n",
      "=================================================================\n",
      "flatten_2 (Flatten)          (None, 784)               0         \n",
      "_________________________________________________________________\n",
      "dense_6 (Dense)              (None, 128)               100480    \n",
      "_________________________________________________________________\n",
      "dense_7 (Dense)              (None, 256)               33024     \n",
      "_________________________________________________________________\n",
      "dense_8 (Dense)              (None, 64)                16448     \n",
      "_________________________________________________________________\n",
      "dense_9 (Dense)              (None, 256)               16640     \n",
      "_________________________________________________________________\n",
      "dense_10 (Dense)             (None, 10)                2570      \n",
      "=================================================================\n",
      "Total params: 169,162\n",
      "Trainable params: 169,162\n",
      "Non-trainable params: 0\n",
      "_________________________________________________________________\n"
     ]
    }
   ],
   "source": [
    "model1 = Sequential()\n",
    "# first layer we need to mention the input shape\n",
    "\n",
    "model1.add(Flatten(input_shape=(28,28)))\n",
    "## 784 pixel values as input to this Dense. 128 Neurons in the layers\n",
    "model1.add(Dense(128,activation='relu'))# 784 * 128+128\n",
    "model1.add(Dense(256,activation='relu'))# \n",
    "model1.add(Dense(64,activation='relu'))\n",
    "model1.add(Dense(256,activation='relu'))\n",
    "#Final layer\n",
    "model1.add(Dense(10,activation='sigmoid'))\n",
    "model1.summary()"
   ]
  },
  {
   "cell_type": "code",
   "execution_count": 28,
   "metadata": {
    "colab": {},
    "colab_type": "code",
    "executionInfo": {
     "elapsed": 39202,
     "status": "ok",
     "timestamp": 1594356059935,
     "user": {
      "displayName": "MURIKI SAI SRINIVAS MURIKI SAI SRINIVAS",
      "photoUrl": "",
      "userId": "11565405108354461381"
     },
     "user_tz": -330
    },
    "id": "15EJ0ZGbABls"
   },
   "outputs": [],
   "source": [
    "model1.compile(optimizer='adam',loss=tf.keras.losses.CategoricalCrossentropy(),metrics=['accuracy'])"
   ]
  },
  {
   "cell_type": "code",
   "execution_count": null,
   "metadata": {
    "colab": {
     "base_uri": "https://localhost:8080/",
     "height": 202
    },
    "colab_type": "code",
    "id": "ySV99oUDAZ9B",
    "outputId": "1a32df7d-6eeb-4025-f51d-be57993a524e"
   },
   "outputs": [
    {
     "name": "stdout",
     "output_type": "stream",
     "text": [
      "Train on 54000 samples, validate on 6000 samples\n",
      "Epoch 1/5\n",
      "54000/54000 [==============================] - 7s 136us/step - loss: 0.2617 - accuracy: 0.9209 - val_loss: 0.1257 - val_accuracy: 0.9625\n",
      "Epoch 2/5\n",
      "54000/54000 [==============================] - 7s 135us/step - loss: 0.1104 - accuracy: 0.9660 - val_loss: 0.1013 - val_accuracy: 0.9722\n",
      "Epoch 3/5\n",
      "54000/54000 [==============================] - 7s 134us/step - loss: 0.0813 - accuracy: 0.9750 - val_loss: 0.0931 - val_accuracy: 0.9730\n",
      "Epoch 4/5\n",
      "54000/54000 [==============================] - 7s 134us/step - loss: 0.0619 - accuracy: 0.9807 - val_loss: 0.0985 - val_accuracy: 0.9725\n",
      "Epoch 5/5\n",
      "12928/54000 [======>.......................] - ETA: 5s - loss: 0.0478 - accuracy: 0.9848"
     ]
    }
   ],
   "source": [
    "history=model1.fit(x=x_train,y=y_train,epochs=5,validation_data=(x_val,y_val),batch_size=32)"
   ]
  },
  {
   "cell_type": "code",
   "execution_count": null,
   "metadata": {
    "colab": {},
    "colab_type": "code",
    "executionInfo": {
     "elapsed": 39801,
     "status": "aborted",
     "timestamp": 1594356060557,
     "user": {
      "displayName": "MURIKI SAI SRINIVAS MURIKI SAI SRINIVAS",
      "photoUrl": "",
      "userId": "11565405108354461381"
     },
     "user_tz": -330
    },
    "id": "VfODTcQ_AfPr"
   },
   "outputs": [],
   "source": [
    "model1.evaluate(test_digits_sc,test_labels_cat)"
   ]
  },
  {
   "cell_type": "code",
   "execution_count": null,
   "metadata": {
    "colab": {},
    "colab_type": "code",
    "executionInfo": {
     "elapsed": 39790,
     "status": "aborted",
     "timestamp": 1594356060559,
     "user": {
      "displayName": "MURIKI SAI SRINIVAS MURIKI SAI SRINIVAS",
      "photoUrl": "",
      "userId": "11565405108354461381"
     },
     "user_tz": -330
    },
    "id": "hJrPyn0ZApll"
   },
   "outputs": [],
   "source": [
    "print(test_digits_sc.shape)\n",
    "print(test_digits_sc[0].shape)\n",
    "print(np.expand_dims(test_digits_sc[0],axis=0).shape)"
   ]
  },
  {
   "cell_type": "code",
   "execution_count": null,
   "metadata": {
    "colab": {},
    "colab_type": "code",
    "executionInfo": {
     "elapsed": 39781,
     "status": "aborted",
     "timestamp": 1594356060560,
     "user": {
      "displayName": "MURIKI SAI SRINIVAS MURIKI SAI SRINIVAS",
      "photoUrl": "",
      "userId": "11565405108354461381"
     },
     "user_tz": -330
    },
    "id": "BvZG9vO_AssF"
   },
   "outputs": [],
   "source": [
    "model.predict(np.expand_dims(test_digits_sc[0],axis=0))"
   ]
  },
  {
   "cell_type": "code",
   "execution_count": null,
   "metadata": {
    "colab": {},
    "colab_type": "code",
    "executionInfo": {
     "elapsed": 39762,
     "status": "aborted",
     "timestamp": 1594356060561,
     "user": {
      "displayName": "MURIKI SAI SRINIVAS MURIKI SAI SRINIVAS",
      "photoUrl": "",
      "userId": "11565405108354461381"
     },
     "user_tz": -330
    },
    "id": "98WxUdR8AwTX"
   },
   "outputs": [],
   "source": [
    "model.predict(test_digits_sc[:10])"
   ]
  },
  {
   "cell_type": "code",
   "execution_count": null,
   "metadata": {
    "colab": {},
    "colab_type": "code",
    "executionInfo": {
     "elapsed": 39751,
     "status": "aborted",
     "timestamp": 1594356060563,
     "user": {
      "displayName": "MURIKI SAI SRINIVAS MURIKI SAI SRINIVAS",
      "photoUrl": "",
      "userId": "11565405108354461381"
     },
     "user_tz": -330
    },
    "id": "kHiE2vRaA0OQ"
   },
   "outputs": [],
   "source": [
    "model.predict_classes(np.expand_dims(test_digits_sc[0],axis=0))"
   ]
  },
  {
   "cell_type": "code",
   "execution_count": null,
   "metadata": {
    "colab": {},
    "colab_type": "code",
    "executionInfo": {
     "elapsed": 39742,
     "status": "aborted",
     "timestamp": 1594356060564,
     "user": {
      "displayName": "MURIKI SAI SRINIVAS MURIKI SAI SRINIVAS",
      "photoUrl": "",
      "userId": "11565405108354461381"
     },
     "user_tz": -330
    },
    "id": "SPN-YJiKA4Xs"
   },
   "outputs": [],
   "source": [
    "model.predict_proba(np.expand_dims(test_digits_sc[0],axis=0))"
   ]
  },
  {
   "cell_type": "code",
   "execution_count": null,
   "metadata": {
    "colab": {},
    "colab_type": "code",
    "executionInfo": {
     "elapsed": 39730,
     "status": "aborted",
     "timestamp": 1594356060565,
     "user": {
      "displayName": "MURIKI SAI SRINIVAS MURIKI SAI SRINIVAS",
      "photoUrl": "",
      "userId": "11565405108354461381"
     },
     "user_tz": -330
    },
    "id": "b-hkrmy5A84C"
   },
   "outputs": [],
   "source": [
    "history.history"
   ]
  },
  {
   "cell_type": "code",
   "execution_count": null,
   "metadata": {
    "colab": {},
    "colab_type": "code",
    "executionInfo": {
     "elapsed": 39719,
     "status": "aborted",
     "timestamp": 1594356060566,
     "user": {
      "displayName": "MURIKI SAI SRINIVAS MURIKI SAI SRINIVAS",
      "photoUrl": "",
      "userId": "11565405108354461381"
     },
     "user_tz": -330
    },
    "id": "QxG4eEi7BAJy"
   },
   "outputs": [],
   "source": [
    "plt.plot(history.history['accuracy'])\n",
    "plt.plot(history.history['val_accuracy'])"
   ]
  }
 ],
 "metadata": {
  "colab": {
   "authorship_tag": "ABX9TyPRyVdmhge1hlnt6oIOO9Jr",
   "mount_file_id": "1BF1CIMSjeS9_nJQx4PBAq0l4JnUKu0jA",
   "name": "Assignment_09-07-20.ipynb",
   "provenance": []
  },
  "kernelspec": {
   "display_name": "Python 3",
   "language": "python",
   "name": "python3"
  },
  "language_info": {
   "codemirror_mode": {
    "name": "ipython",
    "version": 3
   },
   "file_extension": ".py",
   "mimetype": "text/x-python",
   "name": "python",
   "nbconvert_exporter": "python",
   "pygments_lexer": "ipython3",
   "version": "3.7.6"
  }
 },
 "nbformat": 4,
 "nbformat_minor": 1
}
