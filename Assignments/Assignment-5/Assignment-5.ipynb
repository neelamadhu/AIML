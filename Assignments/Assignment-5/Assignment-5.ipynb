{
 "cells": [
  {
   "cell_type": "markdown",
   "metadata": {},
   "source": [
    "# CSE-221710304038-N.Madhu Kumar"
   ]
  },
  {
   "cell_type": "code",
   "execution_count": 1,
   "metadata": {},
   "outputs": [
    {
     "name": "stdout",
     "output_type": "stream",
     "text": [
      "worklion@2\n",
      "another pass- s, not required - Nos\n",
      "cuttiger^5\n",
      "another pass- s, not required - NoNo\n"
     ]
    }
   ],
   "source": [
    "import random\n",
    "verb=[\"work\",\"sleep\",\"pull\",\"push\",\"beat\",\"buy\",\"cut\",\"eat\",\"run\",\"tell\"]\n",
    "noun=[\"tiger\",\"lion\",\"dog\",\"cat\",\"snake\",\"frog\",\"monkey\",\"rat\",\"ant\",\"fish\"]\n",
    "schar=[\"!\",\"@\",\"#\",\"$\",\"%\",\"^\",\"&\",\"*\"]\n",
    "num=[1,2,3,4,5,6,7,8,9,10]\n",
    "n=\"s\"\n",
    "while (n==\"s\"):\n",
    "      r1=random.choice(verb)\n",
    "      r2=random.choice(noun)\n",
    "      r3=random.choice(schar)\n",
    "      r4=random.choice(num)\n",
    "      print(r1,end=\"\")\n",
    "      print(r2,end=\"\")\n",
    "      print(r3,end=\"\")\n",
    "      print(r4)\n",
    "      n=input(\"another pass- s, not required - No\")"
   ]
  }
 ],
 "metadata": {
  "kernelspec": {
   "display_name": "Python 3",
   "language": "python",
   "name": "python3"
  },
  "language_info": {
   "codemirror_mode": {
    "name": "ipython",
    "version": 3
   },
   "file_extension": ".py",
   "mimetype": "text/x-python",
   "name": "python",
   "nbconvert_exporter": "python",
   "pygments_lexer": "ipython3",
   "version": "3.6.4"
  }
 },
 "nbformat": 4,
 "nbformat_minor": 2
}
